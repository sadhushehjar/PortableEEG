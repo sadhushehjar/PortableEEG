{
 "cells": [
  {
   "cell_type": "code",
   "execution_count": 2,
   "metadata": {},
   "outputs": [],
   "source": [
    "import pandas as pd\n",
    "import numpy as np"
   ]
  },
  {
   "cell_type": "code",
   "execution_count": 3,
   "metadata": {},
   "outputs": [],
   "source": [
    "import matplotlib.pyplot as plt\n"
   ]
  },
  {
   "cell_type": "code",
   "execution_count": 4,
   "metadata": {},
   "outputs": [],
   "source": [
    "dataframe1 = pd.read_csv(\"/Users/shehjarsadhu/Desktop/UniversityOfRhodeIsland/Graduate/Academics/Spring2021/NeuralEngineering/PortableEEG/eeg_hr_b.csv\",header=None)\n"
   ]
  },
  {
   "cell_type": "markdown",
   "metadata": {},
   "source": [
    "- Collected only 107 samples but sampling rate was set to 128hz by default. MQTT Reconnection led to sever packet loss"
   ]
  },
  {
   "cell_type": "code",
   "execution_count": 13,
   "metadata": {},
   "outputs": [
    {
     "data": {
      "text/html": [
       "<div>\n",
       "<style scoped>\n",
       "    .dataframe tbody tr th:only-of-type {\n",
       "        vertical-align: middle;\n",
       "    }\n",
       "\n",
       "    .dataframe tbody tr th {\n",
       "        vertical-align: top;\n",
       "    }\n",
       "\n",
       "    .dataframe thead th {\n",
       "        text-align: right;\n",
       "    }\n",
       "</style>\n",
       "<table border=\"1\" class=\"dataframe\">\n",
       "  <thead>\n",
       "    <tr style=\"text-align: right;\">\n",
       "      <th></th>\n",
       "      <th>0</th>\n",
       "    </tr>\n",
       "  </thead>\n",
       "  <tbody>\n",
       "    <tr>\n",
       "      <th>0</th>\n",
       "      <td>neuroPort/adc1115/voltage0,b'-0.22'</td>\n",
       "    </tr>\n",
       "    <tr>\n",
       "      <th>1</th>\n",
       "      <td>neuroPort/adc1115/voltage0,b'0.43'</td>\n",
       "    </tr>\n",
       "    <tr>\n",
       "      <th>2</th>\n",
       "      <td>neuroPort/adc1115/voltage0,b'-0.29'</td>\n",
       "    </tr>\n",
       "    <tr>\n",
       "      <th>3</th>\n",
       "      <td>neuroPort/adc1115/voltage0,b'-0.05'</td>\n",
       "    </tr>\n",
       "    <tr>\n",
       "      <th>4</th>\n",
       "      <td>neuroPort/adc1115/voltage0,b'0.53'</td>\n",
       "    </tr>\n",
       "    <tr>\n",
       "      <th>...</th>\n",
       "      <td>...</td>\n",
       "    </tr>\n",
       "    <tr>\n",
       "      <th>102</th>\n",
       "      <td>neuroPort/adc1115/voltage0,b'-0.18'</td>\n",
       "    </tr>\n",
       "    <tr>\n",
       "      <th>103</th>\n",
       "      <td>neuroPort/adc1115/voltage0,b'-0.24'</td>\n",
       "    </tr>\n",
       "    <tr>\n",
       "      <th>104</th>\n",
       "      <td>neuroPort/adc1115/voltage0,b'-0.26'</td>\n",
       "    </tr>\n",
       "    <tr>\n",
       "      <th>105</th>\n",
       "      <td>neuroPort/adc1115/voltage0,b'0.57'</td>\n",
       "    </tr>\n",
       "    <tr>\n",
       "      <th>106</th>\n",
       "      <td>neuroPort/adc1115/voltage0,b'0.48'</td>\n",
       "    </tr>\n",
       "  </tbody>\n",
       "</table>\n",
       "<p>107 rows × 1 columns</p>\n",
       "</div>"
      ],
      "text/plain": [
       "                                       0\n",
       "0    neuroPort/adc1115/voltage0,b'-0.22'\n",
       "1     neuroPort/adc1115/voltage0,b'0.43'\n",
       "2    neuroPort/adc1115/voltage0,b'-0.29'\n",
       "3    neuroPort/adc1115/voltage0,b'-0.05'\n",
       "4     neuroPort/adc1115/voltage0,b'0.53'\n",
       "..                                   ...\n",
       "102  neuroPort/adc1115/voltage0,b'-0.18'\n",
       "103  neuroPort/adc1115/voltage0,b'-0.24'\n",
       "104  neuroPort/adc1115/voltage0,b'-0.26'\n",
       "105   neuroPort/adc1115/voltage0,b'0.57'\n",
       "106   neuroPort/adc1115/voltage0,b'0.48'\n",
       "\n",
       "[107 rows x 1 columns]"
      ]
     },
     "execution_count": 13,
     "metadata": {},
     "output_type": "execute_result"
    }
   ],
   "source": [
    "dataframe1"
   ]
  },
  {
   "cell_type": "code",
   "execution_count": 14,
   "metadata": {},
   "outputs": [
    {
     "data": {
      "text/html": [
       "<div>\n",
       "<style scoped>\n",
       "    .dataframe tbody tr th:only-of-type {\n",
       "        vertical-align: middle;\n",
       "    }\n",
       "\n",
       "    .dataframe tbody tr th {\n",
       "        vertical-align: top;\n",
       "    }\n",
       "\n",
       "    .dataframe thead th {\n",
       "        text-align: right;\n",
       "    }\n",
       "</style>\n",
       "<table border=\"1\" class=\"dataframe\">\n",
       "  <thead>\n",
       "    <tr style=\"text-align: right;\">\n",
       "      <th></th>\n",
       "      <th>0</th>\n",
       "    </tr>\n",
       "  </thead>\n",
       "  <tbody>\n",
       "    <tr>\n",
       "      <th>0</th>\n",
       "      <td>neuroPort/adc1115/voltage0,b'-0.22'</td>\n",
       "    </tr>\n",
       "    <tr>\n",
       "      <th>1</th>\n",
       "      <td>neuroPort/adc1115/voltage0,b'0.43'</td>\n",
       "    </tr>\n",
       "    <tr>\n",
       "      <th>2</th>\n",
       "      <td>neuroPort/adc1115/voltage0,b'-0.29'</td>\n",
       "    </tr>\n",
       "    <tr>\n",
       "      <th>3</th>\n",
       "      <td>neuroPort/adc1115/voltage0,b'-0.05'</td>\n",
       "    </tr>\n",
       "    <tr>\n",
       "      <th>4</th>\n",
       "      <td>neuroPort/adc1115/voltage0,b'0.53'</td>\n",
       "    </tr>\n",
       "  </tbody>\n",
       "</table>\n",
       "</div>"
      ],
      "text/plain": [
       "                                     0\n",
       "0  neuroPort/adc1115/voltage0,b'-0.22'\n",
       "1   neuroPort/adc1115/voltage0,b'0.43'\n",
       "2  neuroPort/adc1115/voltage0,b'-0.29'\n",
       "3  neuroPort/adc1115/voltage0,b'-0.05'\n",
       "4   neuroPort/adc1115/voltage0,b'0.53'"
      ]
     },
     "execution_count": 14,
     "metadata": {},
     "output_type": "execute_result"
    }
   ],
   "source": [
    "dataframe1.head()"
   ]
  },
  {
   "cell_type": "code",
   "execution_count": 15,
   "metadata": {},
   "outputs": [],
   "source": [
    "#float(dataframe1[:0].to_string().split(',')[1].split(\"\\n\")[0].split(\"]\")[0].split(\"'\")[1])"
   ]
  },
  {
   "cell_type": "code",
   "execution_count": 16,
   "metadata": {},
   "outputs": [],
   "source": [
    "float_values = []"
   ]
  },
  {
   "cell_type": "code",
   "execution_count": 19,
   "metadata": {},
   "outputs": [
    {
     "name": "stdout",
     "output_type": "stream",
     "text": [
      "neuroPort/adc1115/voltage0,b'-0.22' <class 'str'>\n",
      "-0.22\n",
      "neuroPort/adc1115/voltage0,b'0.43' <class 'str'>\n",
      "0.43\n",
      "neuroPort/adc1115/voltage0,b'-0.29' <class 'str'>\n",
      "-0.29\n",
      "neuroPort/adc1115/voltage0,b'-0.05' <class 'str'>\n",
      "-0.05\n",
      "neuroPort/adc1115/voltage0,b'0.53' <class 'str'>\n",
      "0.53\n",
      "neuroPort/adc1115/voltage0,b'0.56' <class 'str'>\n",
      "0.56\n",
      "neuroPort/adc1115/voltage0,b'0.28' <class 'str'>\n",
      "0.28\n",
      "neuroPort/adc1115/voltage0,b'0.44' <class 'str'>\n",
      "0.44\n",
      "neuroPort/adc1115/voltage0,b'0.56' <class 'str'>\n",
      "0.56\n",
      "neuroPort/adc1115/voltage0,b'0.39' <class 'str'>\n",
      "0.39\n",
      "neuroPort/adc1115/voltage0,b'0.47' <class 'str'>\n",
      "0.47\n",
      "neuroPort/adc1115/voltage0,b'0.50' <class 'str'>\n",
      "0.5\n",
      "neuroPort/adc1115/voltage0,b'0.57' <class 'str'>\n",
      "0.57\n",
      "neuroPort/adc1115/voltage0,b'0.44' <class 'str'>\n",
      "0.44\n",
      "neuroPort/adc1115/voltage0,b'0.57' <class 'str'>\n",
      "0.57\n",
      "neuroPort/adc1115/voltage0,b'0.44' <class 'str'>\n",
      "0.44\n",
      "neuroPort/adc1115/voltage0,b'0.52' <class 'str'>\n",
      "0.52\n",
      "neuroPort/adc1115/voltage0,b'0.32' <class 'str'>\n",
      "0.32\n",
      "neuroPort/adc1115/voltage0,b'0.54' <class 'str'>\n",
      "0.54\n",
      "neuroPort/adc1115/voltage0,b'0.49' <class 'str'>\n",
      "0.49\n",
      "neuroPort/adc1115/voltage0,b'-0.24' <class 'str'>\n",
      "-0.24\n",
      "neuroPort/adc1115/voltage0,b'-0.26' <class 'str'>\n",
      "-0.26\n",
      "neuroPort/adc1115/voltage0,b'-0.19' <class 'str'>\n",
      "-0.19\n",
      "neuroPort/adc1115/voltage0,b'-0.27' <class 'str'>\n",
      "-0.27\n",
      "neuroPort/adc1115/voltage0,b'-0.30' <class 'str'>\n",
      "-0.3\n",
      "neuroPort/adc1115/voltage0,b'0.47' <class 'str'>\n",
      "0.47\n",
      "neuroPort/adc1115/voltage0,b'0.51' <class 'str'>\n",
      "0.51\n",
      "neuroPort/adc1115/voltage0,b'0.48' <class 'str'>\n",
      "0.48\n",
      "neuroPort/adc1115/voltage0,b'0.50' <class 'str'>\n",
      "0.5\n",
      "neuroPort/adc1115/voltage0,b'0.44' <class 'str'>\n",
      "0.44\n",
      "neuroPort/adc1115/voltage0,b'-0.15' <class 'str'>\n",
      "-0.15\n",
      "neuroPort/adc1115/voltage0,b'-0.05' <class 'str'>\n",
      "-0.05\n",
      "neuroPort/adc1115/voltage0,b'0.44' <class 'str'>\n",
      "0.44\n",
      "neuroPort/adc1115/voltage0,b'0.47' <class 'str'>\n",
      "0.47\n",
      "neuroPort/adc1115/voltage0,b'0.46' <class 'str'>\n",
      "0.46\n",
      "neuroPort/adc1115/voltage0,b'0.48' <class 'str'>\n",
      "0.48\n",
      "neuroPort/adc1115/voltage0,b'0.49' <class 'str'>\n",
      "0.49\n",
      "neuroPort/adc1115/voltage0,b'-0.29' <class 'str'>\n",
      "-0.29\n",
      "neuroPort/adc1115/voltage0,b'0.42' <class 'str'>\n",
      "0.42\n",
      "neuroPort/adc1115/voltage0,b'0.53' <class 'str'>\n",
      "0.53\n",
      "neuroPort/adc1115/voltage0,b'0.51' <class 'str'>\n",
      "0.51\n",
      "neuroPort/adc1115/voltage0,b'-0.28' <class 'str'>\n",
      "-0.28\n",
      "neuroPort/adc1115/voltage0,b'0.50' <class 'str'>\n",
      "0.5\n",
      "neuroPort/adc1115/voltage0,b'0.53' <class 'str'>\n",
      "0.53\n",
      "neuroPort/adc1115/voltage0,b'-0.29' <class 'str'>\n",
      "-0.29\n",
      "neuroPort/adc1115/voltage0,b'-0.29' <class 'str'>\n",
      "-0.29\n",
      "neuroPort/adc1115/voltage0,b'0.57' <class 'str'>\n",
      "0.57\n",
      "neuroPort/adc1115/voltage0,b'-0.22' <class 'str'>\n",
      "-0.22\n",
      "neuroPort/adc1115/voltage0,b'0.50' <class 'str'>\n",
      "0.5\n",
      "neuroPort/adc1115/voltage0,b'0.51' <class 'str'>\n",
      "0.51\n",
      "neuroPort/adc1115/voltage0,b'0.47' <class 'str'>\n",
      "0.47\n",
      "neuroPort/adc1115/voltage0,b'0.41' <class 'str'>\n",
      "0.41\n",
      "neuroPort/adc1115/voltage0,b'0.47' <class 'str'>\n",
      "0.47\n",
      "neuroPort/adc1115/voltage0,b'0.47' <class 'str'>\n",
      "0.47\n",
      "neuroPort/adc1115/voltage0,b'0.47' <class 'str'>\n",
      "0.47\n",
      "neuroPort/adc1115/voltage0,b'0.50' <class 'str'>\n",
      "0.5\n",
      "neuroPort/adc1115/voltage0,b'0.09' <class 'str'>\n",
      "0.09\n",
      "neuroPort/adc1115/voltage0,b'-0.22' <class 'str'>\n",
      "-0.22\n",
      "neuroPort/adc1115/voltage0,b'0.44' <class 'str'>\n",
      "0.44\n",
      "neuroPort/adc1115/voltage0,b'0.57' <class 'str'>\n",
      "0.57\n",
      "neuroPort/adc1115/voltage0,b'-0.23' <class 'str'>\n",
      "-0.23\n",
      "neuroPort/adc1115/voltage0,b'0.59' <class 'str'>\n",
      "0.59\n",
      "neuroPort/adc1115/voltage0,b'0.59' <class 'str'>\n",
      "0.59\n",
      "neuroPort/adc1115/voltage0,b'-0.28' <class 'str'>\n",
      "-0.28\n",
      "neuroPort/adc1115/voltage0,b'0.44' <class 'str'>\n",
      "0.44\n",
      "neuroPort/adc1115/voltage0,b'0.59' <class 'str'>\n",
      "0.59\n",
      "neuroPort/adc1115/voltage0,b'0.50' <class 'str'>\n",
      "0.5\n",
      "neuroPort/adc1115/voltage0,b'0.60' <class 'str'>\n",
      "0.6\n",
      "neuroPort/adc1115/voltage0,b'0.47' <class 'str'>\n",
      "0.47\n",
      "neuroPort/adc1115/voltage0,b'0.50' <class 'str'>\n",
      "0.5\n",
      "neuroPort/adc1115/voltage0,b'0.50' <class 'str'>\n",
      "0.5\n",
      "neuroPort/adc1115/voltage0,b'0.59' <class 'str'>\n",
      "0.59\n",
      "neuroPort/adc1115/voltage0,b'0.55' <class 'str'>\n",
      "0.55\n",
      "neuroPort/adc1115/voltage0,b'0.59' <class 'str'>\n",
      "0.59\n",
      "neuroPort/adc1115/voltage0,b'0.11' <class 'str'>\n",
      "0.11\n",
      "neuroPort/adc1115/voltage0,b'-0.28' <class 'str'>\n",
      "-0.28\n",
      "neuroPort/adc1115/voltage0,b'-0.13' <class 'str'>\n",
      "-0.13\n",
      "neuroPort/adc1115/voltage0,b'0.49' <class 'str'>\n",
      "0.49\n",
      "neuroPort/adc1115/voltage0,b'0.45' <class 'str'>\n",
      "0.45\n",
      "neuroPort/adc1115/voltage0,b'0.58' <class 'str'>\n",
      "0.58\n",
      "neuroPort/adc1115/voltage0,b'-0.29' <class 'str'>\n",
      "-0.29\n",
      "neuroPort/adc1115/voltage0,b'0.57' <class 'str'>\n",
      "0.57\n",
      "neuroPort/adc1115/voltage0,b'-0.29' <class 'str'>\n",
      "-0.29\n",
      "neuroPort/adc1115/voltage0,b'0.46' <class 'str'>\n",
      "0.46\n",
      "neuroPort/adc1115/voltage0,b'0.53' <class 'str'>\n",
      "0.53\n",
      "neuroPort/adc1115/voltage0,b'0.53' <class 'str'>\n",
      "0.53\n",
      "neuroPort/adc1115/voltage0,b'0.53' <class 'str'>\n",
      "0.53\n",
      "neuroPort/adc1115/voltage0,b'0.60' <class 'str'>\n",
      "0.6\n",
      "neuroPort/adc1115/voltage0,b'0.32' <class 'str'>\n",
      "0.32\n",
      "neuroPort/adc1115/voltage0,b'0.60' <class 'str'>\n",
      "0.6\n",
      "neuroPort/adc1115/voltage0,b'0.19' <class 'str'>\n",
      "0.19\n",
      "neuroPort/adc1115/voltage0,b'0.52' <class 'str'>\n",
      "0.52\n",
      "neuroPort/adc1115/voltage0,b'-0.17' <class 'str'>\n",
      "-0.17\n",
      "neuroPort/adc1115/voltage0,b'0.42' <class 'str'>\n",
      "0.42\n",
      "neuroPort/adc1115/voltage0,b'-0.24' <class 'str'>\n",
      "-0.24\n",
      "neuroPort/adc1115/voltage0,b'0.48' <class 'str'>\n",
      "0.48\n",
      "neuroPort/adc1115/voltage0,b'0.54' <class 'str'>\n",
      "0.54\n",
      "neuroPort/adc1115/voltage0,b'0.53' <class 'str'>\n",
      "0.53\n",
      "neuroPort/adc1115/voltage0,b'-0.27' <class 'str'>\n",
      "-0.27\n",
      "neuroPort/adc1115/voltage0,b'-0.12' <class 'str'>\n",
      "-0.12\n",
      "neuroPort/adc1115/voltage0,b'-0.29' <class 'str'>\n",
      "-0.29\n",
      "neuroPort/adc1115/voltage0,b'0.18' <class 'str'>\n",
      "0.18\n",
      "neuroPort/adc1115/voltage0,b'-0.18' <class 'str'>\n",
      "-0.18\n",
      "neuroPort/adc1115/voltage0,b'-0.24' <class 'str'>\n",
      "-0.24\n",
      "neuroPort/adc1115/voltage0,b'-0.26' <class 'str'>\n",
      "-0.26\n",
      "neuroPort/adc1115/voltage0,b'0.57' <class 'str'>\n",
      "0.57\n",
      "neuroPort/adc1115/voltage0,b'0.48' <class 'str'>\n",
      "0.48\n"
     ]
    }
   ],
   "source": [
    "for i in dataframe1[0]:\n",
    "    print(i,type(i))\n",
    "    float_val = float(i.split(',')[1].split(\"\\n\")[0].split(\"]\")[0].split(\"'\")[1])\n",
    "    print(float_val)\n",
    "    float_values.append(float_val)"
   ]
  },
  {
   "cell_type": "code",
   "execution_count": 20,
   "metadata": {},
   "outputs": [
    {
     "data": {
      "text/plain": [
       "107"
      ]
     },
     "execution_count": 20,
     "metadata": {},
     "output_type": "execute_result"
    }
   ],
   "source": [
    "len(float_values)"
   ]
  },
  {
   "cell_type": "code",
   "execution_count": 21,
   "metadata": {},
   "outputs": [
    {
     "data": {
      "text/plain": [
       "[<matplotlib.lines.Line2D at 0x7fed7fdb3850>]"
      ]
     },
     "execution_count": 21,
     "metadata": {},
     "output_type": "execute_result"
    },
    {
     "data": {
      "image/png": "[encoded data removed]",
      "text/plain": [
       "<Figure size 432x288 with 1 Axes>"
      ]
     },
     "metadata": {
      "needs_background": "light"
     },
     "output_type": "display_data"
    }
   ],
   "source": [
    "plt.plot(float_values)"
   ]
  },
  {
   "cell_type": "code",
   "execution_count": null,
   "metadata": {},
   "outputs": [],
   "source": [
    "float_values.to_csv(\"/Users/shehjarsadhu/Desktop/UniversityOfRhodeIsland/Graduate/Academics/Spring2021/NeuralEngineering/PortableEEG/)"
   ]
  }
 ],
 "metadata": {
  "kernelspec": {
   "display_name": "Python 3",
   "language": "python",
   "name": "python3"
  },
  "language_info": {
   "codemirror_mode": {
    "name": "ipython",
    "version": 3
   },
   "file_extension": ".py",
   "mimetype": "text/x-python",
   "name": "python",
   "nbconvert_exporter": "python",
   "pygments_lexer": "ipython3",
   "version": "3.8.5"
  }
 },
 "nbformat": 4,
 "nbformat_minor": 4
}
